{
 "cells": [
  {
   "cell_type": "markdown",
   "id": "3bbe9f1b",
   "metadata": {},
   "source": [
    "In this assignment you need to analyze the dataset of S22 telecom_churn:\n",
    "\n",
    "Perform EDA on the features in the dataset.\n",
    "Perform feature transformation if needed.\n",
    "Analyze all the features in the dataset (numerical and categorical) and decide which are the most predictive ones.\n",
    "Create a set of models including: LogisticRegression, SVC, DecisionTree, RandomForest and Boosted trees (AdaBoost, GB or XGBoost) and whatever combination of them you consider.\n",
    "Do model selection on these models and select the best one.\n",
    "Save the model on disk."
   ]
  },
  {
   "cell_type": "code",
   "execution_count": 1,
   "id": "08845ea9",
   "metadata": {},
   "outputs": [],
   "source": [
    "import numpy as np\n",
    "import pandas as pd\n",
    "\n",
    "%matplotlib inline\n",
    "import matplotlib.pyplot as plt\n",
    "import seaborn as sns\n",
    "color = sns.color_palette()\n",
    "sns.set_style('darkgrid')\n",
    "import warnings\n",
    "def ignore_warn(*args, **kwargs):\n",
    "    pass\n",
    "warnings.warn = ignore_warn #ignore annoying warning (from sklearn and seaborn)\n",
    "\n",
    "from scipy import stats\n",
    "from scipy.stats import norm, skew\n",
    "from scipy.special import boxcox1p\n",
    "\n",
    "pd.set_option('display.float_format', lambda x: '{:.3f}'.format(x)) #Limiting floats output to 3 decimal points"
   ]
  },
  {
   "cell_type": "code",
   "execution_count": 2,
   "id": "dcd3a90d",
   "metadata": {},
   "outputs": [
    {
     "data": {
      "text/html": [
       "<div>\n",
       "<style scoped>\n",
       "    .dataframe tbody tr th:only-of-type {\n",
       "        vertical-align: middle;\n",
       "    }\n",
       "\n",
       "    .dataframe tbody tr th {\n",
       "        vertical-align: top;\n",
       "    }\n",
       "\n",
       "    .dataframe thead th {\n",
       "        text-align: right;\n",
       "    }\n",
       "</style>\n",
       "<table border=\"1\" class=\"dataframe\">\n",
       "  <thead>\n",
       "    <tr style=\"text-align: right;\">\n",
       "      <th></th>\n",
       "      <th>State</th>\n",
       "      <th>Account length</th>\n",
       "      <th>Area code</th>\n",
       "      <th>International plan</th>\n",
       "      <th>Voice mail plan</th>\n",
       "      <th>Number vmail messages</th>\n",
       "      <th>Total day minutes</th>\n",
       "      <th>Total day calls</th>\n",
       "      <th>Total day charge</th>\n",
       "      <th>Total eve minutes</th>\n",
       "      <th>Total eve calls</th>\n",
       "      <th>Total eve charge</th>\n",
       "      <th>Total night minutes</th>\n",
       "      <th>Total night calls</th>\n",
       "      <th>Total night charge</th>\n",
       "      <th>Total intl minutes</th>\n",
       "      <th>Total intl calls</th>\n",
       "      <th>Total intl charge</th>\n",
       "      <th>Customer service calls</th>\n",
       "      <th>Churn</th>\n",
       "    </tr>\n",
       "  </thead>\n",
       "  <tbody>\n",
       "    <tr>\n",
       "      <th>0</th>\n",
       "      <td>CO</td>\n",
       "      <td>140</td>\n",
       "      <td>415</td>\n",
       "      <td>No</td>\n",
       "      <td>No</td>\n",
       "      <td>0</td>\n",
       "      <td>149.700</td>\n",
       "      <td>71</td>\n",
       "      <td>25.450</td>\n",
       "      <td>212.500</td>\n",
       "      <td>97</td>\n",
       "      <td>18.060</td>\n",
       "      <td>245.900</td>\n",
       "      <td>67</td>\n",
       "      <td>11.070</td>\n",
       "      <td>12.600</td>\n",
       "      <td>4</td>\n",
       "      <td>3.400</td>\n",
       "      <td>3</td>\n",
       "      <td>False</td>\n",
       "    </tr>\n",
       "    <tr>\n",
       "      <th>1</th>\n",
       "      <td>WA</td>\n",
       "      <td>107</td>\n",
       "      <td>415</td>\n",
       "      <td>No</td>\n",
       "      <td>No</td>\n",
       "      <td>0</td>\n",
       "      <td>230.400</td>\n",
       "      <td>65</td>\n",
       "      <td>39.170</td>\n",
       "      <td>257.400</td>\n",
       "      <td>80</td>\n",
       "      <td>21.880</td>\n",
       "      <td>107.300</td>\n",
       "      <td>88</td>\n",
       "      <td>4.830</td>\n",
       "      <td>8.500</td>\n",
       "      <td>3</td>\n",
       "      <td>2.300</td>\n",
       "      <td>1</td>\n",
       "      <td>False</td>\n",
       "    </tr>\n",
       "    <tr>\n",
       "      <th>2</th>\n",
       "      <td>OK</td>\n",
       "      <td>74</td>\n",
       "      <td>415</td>\n",
       "      <td>No</td>\n",
       "      <td>No</td>\n",
       "      <td>0</td>\n",
       "      <td>200.400</td>\n",
       "      <td>87</td>\n",
       "      <td>34.070</td>\n",
       "      <td>309.200</td>\n",
       "      <td>105</td>\n",
       "      <td>26.280</td>\n",
       "      <td>152.100</td>\n",
       "      <td>118</td>\n",
       "      <td>6.840</td>\n",
       "      <td>10.000</td>\n",
       "      <td>2</td>\n",
       "      <td>2.700</td>\n",
       "      <td>1</td>\n",
       "      <td>False</td>\n",
       "    </tr>\n",
       "    <tr>\n",
       "      <th>3</th>\n",
       "      <td>NV</td>\n",
       "      <td>3</td>\n",
       "      <td>510</td>\n",
       "      <td>No</td>\n",
       "      <td>Yes</td>\n",
       "      <td>27</td>\n",
       "      <td>67.400</td>\n",
       "      <td>116</td>\n",
       "      <td>11.460</td>\n",
       "      <td>244.000</td>\n",
       "      <td>78</td>\n",
       "      <td>20.740</td>\n",
       "      <td>281.100</td>\n",
       "      <td>93</td>\n",
       "      <td>12.650</td>\n",
       "      <td>11.400</td>\n",
       "      <td>2</td>\n",
       "      <td>3.080</td>\n",
       "      <td>2</td>\n",
       "      <td>False</td>\n",
       "    </tr>\n",
       "    <tr>\n",
       "      <th>4</th>\n",
       "      <td>PA</td>\n",
       "      <td>171</td>\n",
       "      <td>415</td>\n",
       "      <td>No</td>\n",
       "      <td>Yes</td>\n",
       "      <td>25</td>\n",
       "      <td>223.200</td>\n",
       "      <td>77</td>\n",
       "      <td>37.940</td>\n",
       "      <td>183.200</td>\n",
       "      <td>118</td>\n",
       "      <td>15.570</td>\n",
       "      <td>150.800</td>\n",
       "      <td>90</td>\n",
       "      <td>6.790</td>\n",
       "      <td>10.200</td>\n",
       "      <td>3</td>\n",
       "      <td>2.750</td>\n",
       "      <td>3</td>\n",
       "      <td>False</td>\n",
       "    </tr>\n",
       "    <tr>\n",
       "      <th>...</th>\n",
       "      <td>...</td>\n",
       "      <td>...</td>\n",
       "      <td>...</td>\n",
       "      <td>...</td>\n",
       "      <td>...</td>\n",
       "      <td>...</td>\n",
       "      <td>...</td>\n",
       "      <td>...</td>\n",
       "      <td>...</td>\n",
       "      <td>...</td>\n",
       "      <td>...</td>\n",
       "      <td>...</td>\n",
       "      <td>...</td>\n",
       "      <td>...</td>\n",
       "      <td>...</td>\n",
       "      <td>...</td>\n",
       "      <td>...</td>\n",
       "      <td>...</td>\n",
       "      <td>...</td>\n",
       "      <td>...</td>\n",
       "    </tr>\n",
       "    <tr>\n",
       "      <th>3161</th>\n",
       "      <td>LA</td>\n",
       "      <td>112</td>\n",
       "      <td>510</td>\n",
       "      <td>No</td>\n",
       "      <td>No</td>\n",
       "      <td>0</td>\n",
       "      <td>174.500</td>\n",
       "      <td>127</td>\n",
       "      <td>29.670</td>\n",
       "      <td>259.300</td>\n",
       "      <td>71</td>\n",
       "      <td>22.040</td>\n",
       "      <td>170.500</td>\n",
       "      <td>120</td>\n",
       "      <td>7.670</td>\n",
       "      <td>11.300</td>\n",
       "      <td>7</td>\n",
       "      <td>3.050</td>\n",
       "      <td>1</td>\n",
       "      <td>False</td>\n",
       "    </tr>\n",
       "    <tr>\n",
       "      <th>3162</th>\n",
       "      <td>VA</td>\n",
       "      <td>128</td>\n",
       "      <td>415</td>\n",
       "      <td>No</td>\n",
       "      <td>No</td>\n",
       "      <td>0</td>\n",
       "      <td>216.000</td>\n",
       "      <td>111</td>\n",
       "      <td>36.720</td>\n",
       "      <td>153.700</td>\n",
       "      <td>115</td>\n",
       "      <td>13.060</td>\n",
       "      <td>227.000</td>\n",
       "      <td>74</td>\n",
       "      <td>10.220</td>\n",
       "      <td>12.700</td>\n",
       "      <td>4</td>\n",
       "      <td>3.430</td>\n",
       "      <td>1</td>\n",
       "      <td>False</td>\n",
       "    </tr>\n",
       "    <tr>\n",
       "      <th>3163</th>\n",
       "      <td>ME</td>\n",
       "      <td>118</td>\n",
       "      <td>408</td>\n",
       "      <td>Yes</td>\n",
       "      <td>Yes</td>\n",
       "      <td>21</td>\n",
       "      <td>156.500</td>\n",
       "      <td>122</td>\n",
       "      <td>26.610</td>\n",
       "      <td>209.200</td>\n",
       "      <td>125</td>\n",
       "      <td>17.780</td>\n",
       "      <td>158.700</td>\n",
       "      <td>81</td>\n",
       "      <td>7.140</td>\n",
       "      <td>11.100</td>\n",
       "      <td>3</td>\n",
       "      <td>3.000</td>\n",
       "      <td>4</td>\n",
       "      <td>True</td>\n",
       "    </tr>\n",
       "    <tr>\n",
       "      <th>3164</th>\n",
       "      <td>AL</td>\n",
       "      <td>68</td>\n",
       "      <td>510</td>\n",
       "      <td>No</td>\n",
       "      <td>No</td>\n",
       "      <td>0</td>\n",
       "      <td>157.300</td>\n",
       "      <td>83</td>\n",
       "      <td>26.740</td>\n",
       "      <td>220.900</td>\n",
       "      <td>85</td>\n",
       "      <td>18.780</td>\n",
       "      <td>218.900</td>\n",
       "      <td>129</td>\n",
       "      <td>9.850</td>\n",
       "      <td>12.000</td>\n",
       "      <td>7</td>\n",
       "      <td>3.240</td>\n",
       "      <td>1</td>\n",
       "      <td>False</td>\n",
       "    </tr>\n",
       "    <tr>\n",
       "      <th>3165</th>\n",
       "      <td>SC</td>\n",
       "      <td>73</td>\n",
       "      <td>415</td>\n",
       "      <td>No</td>\n",
       "      <td>No</td>\n",
       "      <td>0</td>\n",
       "      <td>203.300</td>\n",
       "      <td>45</td>\n",
       "      <td>34.560</td>\n",
       "      <td>141.900</td>\n",
       "      <td>87</td>\n",
       "      <td>12.060</td>\n",
       "      <td>200.700</td>\n",
       "      <td>71</td>\n",
       "      <td>9.030</td>\n",
       "      <td>8.500</td>\n",
       "      <td>6</td>\n",
       "      <td>2.300</td>\n",
       "      <td>0</td>\n",
       "      <td>False</td>\n",
       "    </tr>\n",
       "  </tbody>\n",
       "</table>\n",
       "<p>3166 rows × 20 columns</p>\n",
       "</div>"
      ],
      "text/plain": [
       "     State  Account length  Area code International plan Voice mail plan  \\\n",
       "0       CO             140        415                 No              No   \n",
       "1       WA             107        415                 No              No   \n",
       "2       OK              74        415                 No              No   \n",
       "3       NV               3        510                 No             Yes   \n",
       "4       PA             171        415                 No             Yes   \n",
       "...    ...             ...        ...                ...             ...   \n",
       "3161    LA             112        510                 No              No   \n",
       "3162    VA             128        415                 No              No   \n",
       "3163    ME             118        408                Yes             Yes   \n",
       "3164    AL              68        510                 No              No   \n",
       "3165    SC              73        415                 No              No   \n",
       "\n",
       "      Number vmail messages  Total day minutes  Total day calls  \\\n",
       "0                         0            149.700               71   \n",
       "1                         0            230.400               65   \n",
       "2                         0            200.400               87   \n",
       "3                        27             67.400              116   \n",
       "4                        25            223.200               77   \n",
       "...                     ...                ...              ...   \n",
       "3161                      0            174.500              127   \n",
       "3162                      0            216.000              111   \n",
       "3163                     21            156.500              122   \n",
       "3164                      0            157.300               83   \n",
       "3165                      0            203.300               45   \n",
       "\n",
       "      Total day charge  Total eve minutes  Total eve calls  Total eve charge  \\\n",
       "0               25.450            212.500               97            18.060   \n",
       "1               39.170            257.400               80            21.880   \n",
       "2               34.070            309.200              105            26.280   \n",
       "3               11.460            244.000               78            20.740   \n",
       "4               37.940            183.200              118            15.570   \n",
       "...                ...                ...              ...               ...   \n",
       "3161            29.670            259.300               71            22.040   \n",
       "3162            36.720            153.700              115            13.060   \n",
       "3163            26.610            209.200              125            17.780   \n",
       "3164            26.740            220.900               85            18.780   \n",
       "3165            34.560            141.900               87            12.060   \n",
       "\n",
       "      Total night minutes  Total night calls  Total night charge  \\\n",
       "0                 245.900                 67              11.070   \n",
       "1                 107.300                 88               4.830   \n",
       "2                 152.100                118               6.840   \n",
       "3                 281.100                 93              12.650   \n",
       "4                 150.800                 90               6.790   \n",
       "...                   ...                ...                 ...   \n",
       "3161              170.500                120               7.670   \n",
       "3162              227.000                 74              10.220   \n",
       "3163              158.700                 81               7.140   \n",
       "3164              218.900                129               9.850   \n",
       "3165              200.700                 71               9.030   \n",
       "\n",
       "      Total intl minutes  Total intl calls  Total intl charge  \\\n",
       "0                 12.600                 4              3.400   \n",
       "1                  8.500                 3              2.300   \n",
       "2                 10.000                 2              2.700   \n",
       "3                 11.400                 2              3.080   \n",
       "4                 10.200                 3              2.750   \n",
       "...                  ...               ...                ...   \n",
       "3161              11.300                 7              3.050   \n",
       "3162              12.700                 4              3.430   \n",
       "3163              11.100                 3              3.000   \n",
       "3164              12.000                 7              3.240   \n",
       "3165               8.500                 6              2.300   \n",
       "\n",
       "      Customer service calls  Churn  \n",
       "0                          3  False  \n",
       "1                          1  False  \n",
       "2                          1  False  \n",
       "3                          2  False  \n",
       "4                          3  False  \n",
       "...                      ...    ...  \n",
       "3161                       1  False  \n",
       "3162                       1  False  \n",
       "3163                       4   True  \n",
       "3164                       1  False  \n",
       "3165                       0  False  \n",
       "\n",
       "[3166 rows x 20 columns]"
      ]
     },
     "execution_count": 2,
     "metadata": {},
     "output_type": "execute_result"
    }
   ],
   "source": [
    "# data\n",
    "train = pd.read_csv('telecom_churn_train.csv')\n",
    "train"
   ]
  },
  {
   "cell_type": "markdown",
   "id": "e877d064",
   "metadata": {},
   "source": [
    "# Perform EDA on the features in the dataset"
   ]
  },
  {
   "cell_type": "code",
   "execution_count": 3,
   "id": "1dc21d84",
   "metadata": {},
   "outputs": [
    {
     "name": "stdout",
     "output_type": "stream",
     "text": [
      "train data size: (3166, 20) \n"
     ]
    }
   ],
   "source": [
    "# Check the numbers of samples and features\n",
    "print(\"train data size: {} \".format(train.shape))"
   ]
  },
  {
   "cell_type": "code",
   "execution_count": 4,
   "id": "ca9f773c",
   "metadata": {},
   "outputs": [
    {
     "name": "stdout",
     "output_type": "stream",
     "text": [
      "\n",
      "Numerical variables:\n",
      "\n",
      "Account length  :  int64\n",
      "Area code  :  int64\n",
      "Number vmail messages  :  int64\n",
      "Total day minutes  :  float64\n",
      "Total day calls  :  int64\n",
      "Total day charge  :  float64\n",
      "Total eve minutes  :  float64\n",
      "Total eve calls  :  int64\n",
      "Total eve charge  :  float64\n",
      "Total night minutes  :  float64\n",
      "Total night calls  :  int64\n",
      "Total night charge  :  float64\n",
      "Total intl minutes  :  float64\n",
      "Total intl calls  :  int64\n",
      "Total intl charge  :  float64\n",
      "Customer service calls  :  int64\n",
      "Churn  :  bool\n",
      "\n",
      "Categorical variables:\n",
      "\n",
      "State  :  object\n",
      "International plan  :  object\n",
      "Voice mail plan  :  object\n"
     ]
    }
   ],
   "source": [
    "# Numerical and Categorical variables in the dataset\n",
    "numerical_vars = []\n",
    "print('\\nNumerical variables:\\n')\n",
    "for c in train.columns:\n",
    "    if train[c].dtype != 'object':\n",
    "        print(c, ' : ', train[c].dtype)\n",
    "        numerical_vars.append(c)\n",
    "\n",
    "categorical_vars = []\n",
    "print('\\nCategorical variables:\\n')\n",
    "for c in train.columns:\n",
    "    if train[c].dtype == 'object':\n",
    "        print(c, ' : ', train[c].dtype)\n",
    "        categorical_vars.append(c)"
   ]
  },
  {
   "cell_type": "markdown",
   "id": "6a3fa25b",
   "metadata": {},
   "source": [
    "Area Code is a numerical variable that is actually categorical, so we will be changing it later. Now that we have categorized our variables, let's do an outlier detection.\n",
    "\n",
    "OUTLIER DETECTION\n",
    "\n",
    "We can see if our numerical variables present any outliers through the use of boxplots:"
   ]
  },
  {
   "cell_type": "code",
   "execution_count": 5,
   "id": "1ea7c539",
   "metadata": {},
   "outputs": [
    {
     "data": {
      "text/plain": [
       "<AxesSubplot:ylabel='Account length'>"
      ]
     },
     "execution_count": 5,
     "metadata": {},
     "output_type": "execute_result"
    },
    {
     "data": {
      "image/png": "[encoded data removed]",
      "text/plain": [
       "<Figure size 144x288 with 1 Axes>"
      ]
     },
     "metadata": {},
     "output_type": "display_data"
    }
   ],
   "source": [
    "# Boxplots for outlier detection\n",
    "plt.figure(figsize=(2, 4))\n",
    "sns.boxplot(y=train['Account length'])"
   ]
  },
  {
   "cell_type": "code",
   "execution_count": 6,
   "id": "3ba27006",
   "metadata": {},
   "outputs": [
    {
     "data": {
      "text/plain": [
       "<AxesSubplot:ylabel='Number vmail messages'>"
      ]
     },
     "execution_count": 6,
     "metadata": {},
     "output_type": "execute_result"
    },
    {
     "data": {
      "image/png": "[encoded data removed]",
      "text/plain": [
       "<Figure size 144x288 with 1 Axes>"
      ]
     },
     "metadata": {},
     "output_type": "display_data"
    }
   ],
   "source": [
    "plt.figure(figsize=(2, 4))\n",
    "sns.boxplot(y=train['Number vmail messages'])"
   ]
  },
  {
   "cell_type": "code",
   "execution_count": 7,
   "id": "42af6e66",
   "metadata": {},
   "outputs": [
    {
     "data": {
      "text/plain": [
       "<AxesSubplot:ylabel='Total day minutes'>"
      ]
     },
     "execution_count": 7,
     "metadata": {},
     "output_type": "execute_result"
    },
    {
     "data": {
      "image/png": "[encoded data removed]",
      "text/plain": [
       "<Figure size 144x288 with 1 Axes>"
      ]
     },
     "metadata": {},
     "output_type": "display_data"
    }
   ],
   "source": [
    "plt.figure(figsize=(2, 4))\n",
    "sns.boxplot(y=train['Total day minutes'])"
   ]
  },
  {
   "cell_type": "code",
   "execution_count": 8,
   "id": "356c1183",
   "metadata": {},
   "outputs": [
    {
     "data": {
      "text/plain": [
       "<AxesSubplot:ylabel='Total day calls'>"
      ]
     },
     "execution_count": 8,
     "metadata": {},
     "output_type": "execute_result"
    },
    {
     "data": {
      "image/png": "[encoded data removed]",
      "text/plain": [
       "<Figure size 144x288 with 1 Axes>"
      ]
     },
     "metadata": {},
     "output_type": "display_data"
    }
   ],
   "source": [
    "plt.figure(figsize=(2, 4))\n",
    "sns.boxplot(y=train['Total day calls'])"
   ]
  },
  {
   "cell_type": "code",
   "execution_count": 9,
   "id": "1c804eed",
   "metadata": {},
   "outputs": [
    {
     "data": {
      "text/plain": [
       "<AxesSubplot:ylabel='Total day charge'>"
      ]
     },
     "execution_count": 9,
     "metadata": {},
     "output_type": "execute_result"
    },
    {
     "data": {
      "image/png": "[encoded data removed]",
      "text/plain": [
       "<Figure size 144x288 with 1 Axes>"
      ]
     },
     "metadata": {},
     "output_type": "display_data"
    }
   ],
   "source": [
    "plt.figure(figsize=(2, 4))\n",
    "sns.boxplot(y=train['Total day charge'])"
   ]
  },
  {
   "cell_type": "code",
   "execution_count": 10,
   "id": "93dd71a8",
   "metadata": {},
   "outputs": [
    {
     "data": {
      "text/plain": [
       "<AxesSubplot:ylabel='Total eve minutes'>"
      ]
     },
     "execution_count": 10,
     "metadata": {},
     "output_type": "execute_result"
    },
    {
     "data": {
      "image/png": "[encoded data removed]",
      "text/plain": [
       "<Figure size 144x288 with 1 Axes>"
      ]
     },
     "metadata": {},
     "output_type": "display_data"
    }
   ],
   "source": [
    "plt.figure(figsize=(2, 4))\n",
    "sns.boxplot(y=train['Total eve minutes'])"
   ]
  },
  {
   "cell_type": "code",
   "execution_count": 11,
   "id": "fbdb9001",
   "metadata": {},
   "outputs": [
    {
     "data": {
      "text/plain": [
       "<AxesSubplot:ylabel='Total eve calls'>"
      ]
     },
     "execution_count": 11,
     "metadata": {},
     "output_type": "execute_result"
    },
    {
     "data": {
      "image/png": "[encoded data removed]",
      "text/plain": [
       "<Figure size 144x288 with 1 Axes>"
      ]
     },
     "metadata": {},
     "output_type": "display_data"
    }
   ],
   "source": [
    "plt.figure(figsize=(2, 4))\n",
    "sns.boxplot(y=train['Total eve calls'])"
   ]
  },
  {
   "cell_type": "code",
   "execution_count": 12,
   "id": "59663541",
   "metadata": {},
   "outputs": [
    {
     "data": {
      "text/plain": [
       "<AxesSubplot:ylabel='Total eve charge'>"
      ]
     },
     "execution_count": 12,
     "metadata": {},
     "output_type": "execute_result"
    },
    {
     "data": {
      "image/png": "[encoded data removed]",
      "text/plain": [
       "<Figure size 144x288 with 1 Axes>"
      ]
     },
     "metadata": {},
     "output_type": "display_data"
    }
   ],
   "source": [
    "plt.figure(figsize=(2, 4))\n",
    "sns.boxplot(y=train['Total eve charge'])"
   ]
  },
  {
   "cell_type": "code",
   "execution_count": 13,
   "id": "51bd8af0",
   "metadata": {},
   "outputs": [
    {
     "data": {
      "text/plain": [
       "<AxesSubplot:ylabel='Total night minutes'>"
      ]
     },
     "execution_count": 13,
     "metadata": {},
     "output_type": "execute_result"
    },
    {
     "data": {
      "image/png": "[encoded data removed]",
      "text/plain": [
       "<Figure size 144x288 with 1 Axes>"
      ]
     },
     "metadata": {},
     "output_type": "display_data"
    }
   ],
   "source": [
    "plt.figure(figsize=(2, 4))\n",
    "sns.boxplot(y=train['Total night minutes'])"
   ]
  },
  {
   "cell_type": "code",
   "execution_count": 14,
   "id": "aae87999",
   "metadata": {},
   "outputs": [
    {
     "data": {
      "text/plain": [
       "<AxesSubplot:ylabel='Total night calls'>"
      ]
     },
     "execution_count": 14,
     "metadata": {},
     "output_type": "execute_result"
    },
    {
     "data": {
      "image/png": "[encoded data removed]",
      "text/plain": [
       "<Figure size 144x288 with 1 Axes>"
      ]
     },
     "metadata": {},
     "output_type": "display_data"
    }
   ],
   "source": [
    "plt.figure(figsize=(2, 4))\n",
    "sns.boxplot(y=train['Total night calls'])"
   ]
  },
  {
   "cell_type": "code",
   "execution_count": 15,
   "id": "9feca130",
   "metadata": {},
   "outputs": [
    {
     "data": {
      "text/plain": [
       "<AxesSubplot:ylabel='Total night charge'>"
      ]
     },
     "execution_count": 15,
     "metadata": {},
     "output_type": "execute_result"
    },
    {
     "data": {
      "image/png": "[encoded data removed]",
      "text/plain": [
       "<Figure size 144x288 with 1 Axes>"
      ]
     },
     "metadata": {},
     "output_type": "display_data"
    }
   ],
   "source": [
    "plt.figure(figsize=(2, 4))\n",
    "sns.boxplot(y=train['Total night charge'])"
   ]
  },
  {
   "cell_type": "code",
   "execution_count": 16,
   "id": "be23d54a",
   "metadata": {},
   "outputs": [
    {
     "data": {
      "text/plain": [
       "<AxesSubplot:ylabel='Total intl minutes'>"
      ]
     },
     "execution_count": 16,
     "metadata": {},
     "output_type": "execute_result"
    },
    {
     "data": {
      "image/png": "[encoded data removed]",
      "text/plain": [
       "<Figure size 144x288 with 1 Axes>"
      ]
     },
     "metadata": {},
     "output_type": "display_data"
    }
   ],
   "source": [
    "plt.figure(figsize=(2, 4))\n",
    "sns.boxplot(y=train['Total intl minutes'])"
   ]
  },
  {
   "cell_type": "code",
   "execution_count": 17,
   "id": "763d8243",
   "metadata": {},
   "outputs": [
    {
     "data": {
      "text/plain": [
       "<AxesSubplot:ylabel='Total intl calls'>"
      ]
     },
     "execution_count": 17,
     "metadata": {},
     "output_type": "execute_result"
    },
    {
     "data": {
      "image/png": "[encoded data removed]",
      "text/plain": [
       "<Figure size 144x288 with 1 Axes>"
      ]
     },
     "metadata": {},
     "output_type": "display_data"
    }
   ],
   "source": [
    "plt.figure(figsize=(2, 4))\n",
    "sns.boxplot(y=train['Total intl calls'])"
   ]
  },
  {
   "cell_type": "code",
   "execution_count": 18,
   "id": "11efa9d7",
   "metadata": {},
   "outputs": [
    {
     "data": {
      "text/plain": [
       "<AxesSubplot:ylabel='Total intl charge'>"
      ]
     },
     "execution_count": 18,
     "metadata": {},
     "output_type": "execute_result"
    },
    {
     "data": {
      "image/png": "[encoded data removed]",
      "text/plain": [
       "<Figure size 144x288 with 1 Axes>"
      ]
     },
     "metadata": {},
     "output_type": "display_data"
    }
   ],
   "source": [
    "plt.figure(figsize=(2, 4))\n",
    "sns.boxplot(y=train['Total intl charge'])"
   ]
  },
  {
   "cell_type": "code",
   "execution_count": 19,
   "id": "d8fd5aff",
   "metadata": {},
   "outputs": [
    {
     "data": {
      "text/plain": [
       "<AxesSubplot:ylabel='Customer service calls'>"
      ]
     },
     "execution_count": 19,
     "metadata": {},
     "output_type": "execute_result"
    },
    {
     "data": {
      "image/png": "[encoded data removed]",
      "text/plain": [
       "<Figure size 144x288 with 1 Axes>"
      ]
     },
     "metadata": {},
     "output_type": "display_data"
    }
   ],
   "source": [
    "plt.figure(figsize=(2, 4))\n",
    "sns.boxplot(y=train['Customer service calls'])"
   ]
  },
  {
   "cell_type": "markdown",
   "id": "d0cf5e4e",
   "metadata": {},
   "source": [
    "We can observe that all of our variables appear to have outliers.\n",
    "\n",
    "Trimming is the process of removing observations that show outliers in one or more variables in the dataset. There are several methods to set the boundaries beyond which a value can be considered an outlier. \n",
    "In this case, we will be determinining the limits using the inter-quartile range proximity rules or by directly setting the limits to the 5th and 95th quantiles."
   ]
  },
  {
   "cell_type": "code",
   "execution_count": 20,
   "id": "cdb6f750",
   "metadata": {},
   "outputs": [
    {
     "data": {
      "text/plain": [
       "15"
      ]
     },
     "execution_count": 20,
     "metadata": {},
     "output_type": "execute_result"
    }
   ],
   "source": [
    "cols = [\n",
    "        'Account length', \n",
    "        'Number vmail messages',\n",
    "        'Total day minutes',\n",
    "        'Total day calls',  \n",
    "        'Total day charge',  \n",
    "        'Total eve minutes', \n",
    "        'Total eve calls', \n",
    "        'Total eve charge', \n",
    "        'Total night minutes', \n",
    "        'Total night calls', \n",
    "        'Total night charge',\n",
    "        'Total intl minutes',\n",
    "        'Total intl calls',\n",
    "        'Total intl charge',\n",
    "        'Customer service calls']\n",
    "\n",
    "len(cols)"
   ]
  },
  {
   "cell_type": "code",
   "execution_count": 21,
   "id": "38494b12",
   "metadata": {},
   "outputs": [],
   "source": [
    "# Outlier Removal\n",
    "\n",
    "# we create this first function to calculate the boundaries outside which sit the outliers for skewed distributions\n",
    "def find_boundaries(df, variable, distance):\n",
    "\n",
    "\n",
    "    IQR = df[variable].quantile(0.75) - df[variable].quantile(0.25)\n",
    "\n",
    "    lower_boundary = df[variable].quantile(0.25) - (IQR * distance)\n",
    "    upper_boundary = df[variable].quantile(0.75) + (IQR * distance)\n",
    "\n",
    "    return upper_boundary, lower_boundary\n",
    "\n",
    "# this second function will go through each of the columns inside our variable cols, identify the boundaries, flag the outliers, and remove them from the dataset\n",
    "def outlier_removal(train, cols):\n",
    "    train_trimmed = train\n",
    "    for col in cols:\n",
    "        upper_limit, lower_limit = find_boundaries(train_trimmed, col, 3) # we will use a distance of 3 so it will only remove extreme outliers\n",
    "        outliers = np.where(train_trimmed[col] > upper_limit, True,\n",
    "                       np.where(train_trimmed[col] < lower_limit, True, False))\n",
    "\n",
    "        train_trimmed = train_trimmed.loc[~outliers]\n",
    "    return train_trimmed"
   ]
  },
  {
   "cell_type": "code",
   "execution_count": 22,
   "id": "7b89b81b",
   "metadata": {},
   "outputs": [
    {
     "data": {
      "text/html": [
       "<div>\n",
       "<style scoped>\n",
       "    .dataframe tbody tr th:only-of-type {\n",
       "        vertical-align: middle;\n",
       "    }\n",
       "\n",
       "    .dataframe tbody tr th {\n",
       "        vertical-align: top;\n",
       "    }\n",
       "\n",
       "    .dataframe thead th {\n",
       "        text-align: right;\n",
       "    }\n",
       "</style>\n",
       "<table border=\"1\" class=\"dataframe\">\n",
       "  <thead>\n",
       "    <tr style=\"text-align: right;\">\n",
       "      <th></th>\n",
       "      <th>State</th>\n",
       "      <th>Account length</th>\n",
       "      <th>Area code</th>\n",
       "      <th>International plan</th>\n",
       "      <th>Voice mail plan</th>\n",
       "      <th>Number vmail messages</th>\n",
       "      <th>Total day minutes</th>\n",
       "      <th>Total day calls</th>\n",
       "      <th>Total day charge</th>\n",
       "      <th>Total eve minutes</th>\n",
       "      <th>Total eve calls</th>\n",
       "      <th>Total eve charge</th>\n",
       "      <th>Total night minutes</th>\n",
       "      <th>Total night calls</th>\n",
       "      <th>Total night charge</th>\n",
       "      <th>Total intl minutes</th>\n",
       "      <th>Total intl calls</th>\n",
       "      <th>Total intl charge</th>\n",
       "      <th>Customer service calls</th>\n",
       "      <th>Churn</th>\n",
       "    </tr>\n",
       "  </thead>\n",
       "  <tbody>\n",
       "    <tr>\n",
       "      <th>0</th>\n",
       "      <td>CO</td>\n",
       "      <td>140</td>\n",
       "      <td>415</td>\n",
       "      <td>No</td>\n",
       "      <td>No</td>\n",
       "      <td>0</td>\n",
       "      <td>149.700</td>\n",
       "      <td>71</td>\n",
       "      <td>25.450</td>\n",
       "      <td>212.500</td>\n",
       "      <td>97</td>\n",
       "      <td>18.060</td>\n",
       "      <td>245.900</td>\n",
       "      <td>67</td>\n",
       "      <td>11.070</td>\n",
       "      <td>12.600</td>\n",
       "      <td>4</td>\n",
       "      <td>3.400</td>\n",
       "      <td>3</td>\n",
       "      <td>False</td>\n",
       "    </tr>\n",
       "    <tr>\n",
       "      <th>1</th>\n",
       "      <td>WA</td>\n",
       "      <td>107</td>\n",
       "      <td>415</td>\n",
       "      <td>No</td>\n",
       "      <td>No</td>\n",
       "      <td>0</td>\n",
       "      <td>230.400</td>\n",
       "      <td>65</td>\n",
       "      <td>39.170</td>\n",
       "      <td>257.400</td>\n",
       "      <td>80</td>\n",
       "      <td>21.880</td>\n",
       "      <td>107.300</td>\n",
       "      <td>88</td>\n",
       "      <td>4.830</td>\n",
       "      <td>8.500</td>\n",
       "      <td>3</td>\n",
       "      <td>2.300</td>\n",
       "      <td>1</td>\n",
       "      <td>False</td>\n",
       "    </tr>\n",
       "    <tr>\n",
       "      <th>2</th>\n",
       "      <td>OK</td>\n",
       "      <td>74</td>\n",
       "      <td>415</td>\n",
       "      <td>No</td>\n",
       "      <td>No</td>\n",
       "      <td>0</td>\n",
       "      <td>200.400</td>\n",
       "      <td>87</td>\n",
       "      <td>34.070</td>\n",
       "      <td>309.200</td>\n",
       "      <td>105</td>\n",
       "      <td>26.280</td>\n",
       "      <td>152.100</td>\n",
       "      <td>118</td>\n",
       "      <td>6.840</td>\n",
       "      <td>10.000</td>\n",
       "      <td>2</td>\n",
       "      <td>2.700</td>\n",
       "      <td>1</td>\n",
       "      <td>False</td>\n",
       "    </tr>\n",
       "    <tr>\n",
       "      <th>3</th>\n",
       "      <td>NV</td>\n",
       "      <td>3</td>\n",
       "      <td>510</td>\n",
       "      <td>No</td>\n",
       "      <td>Yes</td>\n",
       "      <td>27</td>\n",
       "      <td>67.400</td>\n",
       "      <td>116</td>\n",
       "      <td>11.460</td>\n",
       "      <td>244.000</td>\n",
       "      <td>78</td>\n",
       "      <td>20.740</td>\n",
       "      <td>281.100</td>\n",
       "      <td>93</td>\n",
       "      <td>12.650</td>\n",
       "      <td>11.400</td>\n",
       "      <td>2</td>\n",
       "      <td>3.080</td>\n",
       "      <td>2</td>\n",
       "      <td>False</td>\n",
       "    </tr>\n",
       "    <tr>\n",
       "      <th>4</th>\n",
       "      <td>PA</td>\n",
       "      <td>171</td>\n",
       "      <td>415</td>\n",
       "      <td>No</td>\n",
       "      <td>Yes</td>\n",
       "      <td>25</td>\n",
       "      <td>223.200</td>\n",
       "      <td>77</td>\n",
       "      <td>37.940</td>\n",
       "      <td>183.200</td>\n",
       "      <td>118</td>\n",
       "      <td>15.570</td>\n",
       "      <td>150.800</td>\n",
       "      <td>90</td>\n",
       "      <td>6.790</td>\n",
       "      <td>10.200</td>\n",
       "      <td>3</td>\n",
       "      <td>2.750</td>\n",
       "      <td>3</td>\n",
       "      <td>False</td>\n",
       "    </tr>\n",
       "    <tr>\n",
       "      <th>...</th>\n",
       "      <td>...</td>\n",
       "      <td>...</td>\n",
       "      <td>...</td>\n",
       "      <td>...</td>\n",
       "      <td>...</td>\n",
       "      <td>...</td>\n",
       "      <td>...</td>\n",
       "      <td>...</td>\n",
       "      <td>...</td>\n",
       "      <td>...</td>\n",
       "      <td>...</td>\n",
       "      <td>...</td>\n",
       "      <td>...</td>\n",
       "      <td>...</td>\n",
       "      <td>...</td>\n",
       "      <td>...</td>\n",
       "      <td>...</td>\n",
       "      <td>...</td>\n",
       "      <td>...</td>\n",
       "      <td>...</td>\n",
       "    </tr>\n",
       "    <tr>\n",
       "      <th>3161</th>\n",
       "      <td>LA</td>\n",
       "      <td>112</td>\n",
       "      <td>510</td>\n",
       "      <td>No</td>\n",
       "      <td>No</td>\n",
       "      <td>0</td>\n",
       "      <td>174.500</td>\n",
       "      <td>127</td>\n",
       "      <td>29.670</td>\n",
       "      <td>259.300</td>\n",
       "      <td>71</td>\n",
       "      <td>22.040</td>\n",
       "      <td>170.500</td>\n",
       "      <td>120</td>\n",
       "      <td>7.670</td>\n",
       "      <td>11.300</td>\n",
       "      <td>7</td>\n",
       "      <td>3.050</td>\n",
       "      <td>1</td>\n",
       "      <td>False</td>\n",
       "    </tr>\n",
       "    <tr>\n",
       "      <th>3162</th>\n",
       "      <td>VA</td>\n",
       "      <td>128</td>\n",
       "      <td>415</td>\n",
       "      <td>No</td>\n",
       "      <td>No</td>\n",
       "      <td>0</td>\n",
       "      <td>216.000</td>\n",
       "      <td>111</td>\n",
       "      <td>36.720</td>\n",
       "      <td>153.700</td>\n",
       "      <td>115</td>\n",
       "      <td>13.060</td>\n",
       "      <td>227.000</td>\n",
       "      <td>74</td>\n",
       "      <td>10.220</td>\n",
       "      <td>12.700</td>\n",
       "      <td>4</td>\n",
       "      <td>3.430</td>\n",
       "      <td>1</td>\n",
       "      <td>False</td>\n",
       "    </tr>\n",
       "    <tr>\n",
       "      <th>3163</th>\n",
       "      <td>ME</td>\n",
       "      <td>118</td>\n",
       "      <td>408</td>\n",
       "      <td>Yes</td>\n",
       "      <td>Yes</td>\n",
       "      <td>21</td>\n",
       "      <td>156.500</td>\n",
       "      <td>122</td>\n",
       "      <td>26.610</td>\n",
       "      <td>209.200</td>\n",
       "      <td>125</td>\n",
       "      <td>17.780</td>\n",
       "      <td>158.700</td>\n",
       "      <td>81</td>\n",
       "      <td>7.140</td>\n",
       "      <td>11.100</td>\n",
       "      <td>3</td>\n",
       "      <td>3.000</td>\n",
       "      <td>4</td>\n",
       "      <td>True</td>\n",
       "    </tr>\n",
       "    <tr>\n",
       "      <th>3164</th>\n",
       "      <td>AL</td>\n",
       "      <td>68</td>\n",
       "      <td>510</td>\n",
       "      <td>No</td>\n",
       "      <td>No</td>\n",
       "      <td>0</td>\n",
       "      <td>157.300</td>\n",
       "      <td>83</td>\n",
       "      <td>26.740</td>\n",
       "      <td>220.900</td>\n",
       "      <td>85</td>\n",
       "      <td>18.780</td>\n",
       "      <td>218.900</td>\n",
       "      <td>129</td>\n",
       "      <td>9.850</td>\n",
       "      <td>12.000</td>\n",
       "      <td>7</td>\n",
       "      <td>3.240</td>\n",
       "      <td>1</td>\n",
       "      <td>False</td>\n",
       "    </tr>\n",
       "    <tr>\n",
       "      <th>3165</th>\n",
       "      <td>SC</td>\n",
       "      <td>73</td>\n",
       "      <td>415</td>\n",
       "      <td>No</td>\n",
       "      <td>No</td>\n",
       "      <td>0</td>\n",
       "      <td>203.300</td>\n",
       "      <td>45</td>\n",
       "      <td>34.560</td>\n",
       "      <td>141.900</td>\n",
       "      <td>87</td>\n",
       "      <td>12.060</td>\n",
       "      <td>200.700</td>\n",
       "      <td>71</td>\n",
       "      <td>9.030</td>\n",
       "      <td>8.500</td>\n",
       "      <td>6</td>\n",
       "      <td>2.300</td>\n",
       "      <td>0</td>\n",
       "      <td>False</td>\n",
       "    </tr>\n",
       "  </tbody>\n",
       "</table>\n",
       "<p>3123 rows × 20 columns</p>\n",
       "</div>"
      ],
      "text/plain": [
       "     State  Account length  Area code International plan Voice mail plan  \\\n",
       "0       CO             140        415                 No              No   \n",
       "1       WA             107        415                 No              No   \n",
       "2       OK              74        415                 No              No   \n",
       "3       NV               3        510                 No             Yes   \n",
       "4       PA             171        415                 No             Yes   \n",
       "...    ...             ...        ...                ...             ...   \n",
       "3161    LA             112        510                 No              No   \n",
       "3162    VA             128        415                 No              No   \n",
       "3163    ME             118        408                Yes             Yes   \n",
       "3164    AL              68        510                 No              No   \n",
       "3165    SC              73        415                 No              No   \n",
       "\n",
       "      Number vmail messages  Total day minutes  Total day calls  \\\n",
       "0                         0            149.700               71   \n",
       "1                         0            230.400               65   \n",
       "2                         0            200.400               87   \n",
       "3                        27             67.400              116   \n",
       "4                        25            223.200               77   \n",
       "...                     ...                ...              ...   \n",
       "3161                      0            174.500              127   \n",
       "3162                      0            216.000              111   \n",
       "3163                     21            156.500              122   \n",
       "3164                      0            157.300               83   \n",
       "3165                      0            203.300               45   \n",
       "\n",
       "      Total day charge  Total eve minutes  Total eve calls  Total eve charge  \\\n",
       "0               25.450            212.500               97            18.060   \n",
       "1               39.170            257.400               80            21.880   \n",
       "2               34.070            309.200              105            26.280   \n",
       "3               11.460            244.000               78            20.740   \n",
       "4               37.940            183.200              118            15.570   \n",
       "...                ...                ...              ...               ...   \n",
       "3161            29.670            259.300               71            22.040   \n",
       "3162            36.720            153.700              115            13.060   \n",
       "3163            26.610            209.200              125            17.780   \n",
       "3164            26.740            220.900               85            18.780   \n",
       "3165            34.560            141.900               87            12.060   \n",
       "\n",
       "      Total night minutes  Total night calls  Total night charge  \\\n",
       "0                 245.900                 67              11.070   \n",
       "1                 107.300                 88               4.830   \n",
       "2                 152.100                118               6.840   \n",
       "3                 281.100                 93              12.650   \n",
       "4                 150.800                 90               6.790   \n",
       "...                   ...                ...                 ...   \n",
       "3161              170.500                120               7.670   \n",
       "3162              227.000                 74              10.220   \n",
       "3163              158.700                 81               7.140   \n",
       "3164              218.900                129               9.850   \n",
       "3165              200.700                 71               9.030   \n",
       "\n",
       "      Total intl minutes  Total intl calls  Total intl charge  \\\n",
       "0                 12.600                 4              3.400   \n",
       "1                  8.500                 3              2.300   \n",
       "2                 10.000                 2              2.700   \n",
       "3                 11.400                 2              3.080   \n",
       "4                 10.200                 3              2.750   \n",
       "...                  ...               ...                ...   \n",
       "3161              11.300                 7              3.050   \n",
       "3162              12.700                 4              3.430   \n",
       "3163              11.100                 3              3.000   \n",
       "3164              12.000                 7              3.240   \n",
       "3165               8.500                 6              2.300   \n",
       "\n",
       "      Customer service calls  Churn  \n",
       "0                          3  False  \n",
       "1                          1  False  \n",
       "2                          1  False  \n",
       "3                          2  False  \n",
       "4                          3  False  \n",
       "...                      ...    ...  \n",
       "3161                       1  False  \n",
       "3162                       1  False  \n",
       "3163                       4   True  \n",
       "3164                       1  False  \n",
       "3165                       0  False  \n",
       "\n",
       "[3123 rows x 20 columns]"
      ]
     },
     "execution_count": 22,
     "metadata": {},
     "output_type": "execute_result"
    }
   ],
   "source": [
    "data = outlier_removal(train, cols)\n",
    "data"
   ]
  },
  {
   "cell_type": "code",
   "execution_count": 23,
   "id": "ff506bbe",
   "metadata": {},
   "outputs": [
    {
     "data": {
      "text/plain": [
       "<AxesSubplot:ylabel='Account length'>"
      ]
     },
     "execution_count": 23,
     "metadata": {},
     "output_type": "execute_result"
    },
    {
     "data": {
      "image/png": "[encoded data removed]",
      "text/plain": [
       "<Figure size 144x288 with 1 Axes>"
      ]
     },
     "metadata": {},
     "output_type": "display_data"
    }
   ],
   "source": [
    "# It appears the outlier removal is complete, but let's plot some of the numerical variables just to be sure\n",
    "plt.figure(figsize=(2, 4))\n",
    "sns.boxplot(y=data['Account length'])"
   ]
  },
  {
   "cell_type": "code",
   "execution_count": 24,
   "id": "91d6abcb",
   "metadata": {},
   "outputs": [
    {
     "data": {
      "text/plain": [
       "<AxesSubplot:ylabel='Number vmail messages'>"
      ]
     },
     "execution_count": 24,
     "metadata": {},
     "output_type": "execute_result"
    },
    {
     "data": {
      "image/png": "[encoded data removed]",
      "text/plain": [
       "<Figure size 144x288 with 1 Axes>"
      ]
     },
     "metadata": {},
     "output_type": "display_data"
    }
   ],
   "source": [
    "plt.figure(figsize=(2, 4))\n",
    "sns.boxplot(y=data['Number vmail messages'])"
   ]
  },
  {
   "cell_type": "code",
   "execution_count": 25,
   "id": "d73e06c3",
   "metadata": {},
   "outputs": [
    {
     "data": {
      "text/plain": [
       "<AxesSubplot:ylabel='Customer service calls'>"
      ]
     },
     "execution_count": 25,
     "metadata": {},
     "output_type": "execute_result"
    },
    {
     "data": {
      "image/png": "[encoded data removed]",
      "text/plain": [
       "<Figure size 144x288 with 1 Axes>"
      ]
     },
     "metadata": {},
     "output_type": "display_data"
    }
   ],
   "source": [
    "plt.figure(figsize=(2, 4))\n",
    "sns.boxplot(y=data['Customer service calls'])"
   ]
  },
  {
   "cell_type": "markdown",
   "id": "943add7f",
   "metadata": {},
   "source": [
    "Our outlier removal is now complete. We can now move on to the missing value analysis.\n",
    "\n",
    "MISSING VALUE ANALYSIS:"
   ]
  },
  {
   "cell_type": "code",
   "execution_count": 26,
   "id": "f84eb0bb",
   "metadata": {},
   "outputs": [
    {
     "data": {
      "text/html": [
       "<div>\n",
       "<style scoped>\n",
       "    .dataframe tbody tr th:only-of-type {\n",
       "        vertical-align: middle;\n",
       "    }\n",
       "\n",
       "    .dataframe tbody tr th {\n",
       "        vertical-align: top;\n",
       "    }\n",
       "\n",
       "    .dataframe thead th {\n",
       "        text-align: right;\n",
       "    }\n",
       "</style>\n",
       "<table border=\"1\" class=\"dataframe\">\n",
       "  <thead>\n",
       "    <tr style=\"text-align: right;\">\n",
       "      <th></th>\n",
       "      <th>Missing Ratio</th>\n",
       "      <th>Type</th>\n",
       "    </tr>\n",
       "  </thead>\n",
       "  <tbody>\n",
       "  </tbody>\n",
       "</table>\n",
       "</div>"
      ],
      "text/plain": [
       "Empty DataFrame\n",
       "Columns: [Missing Ratio, Type]\n",
       "Index: []"
      ]
     },
     "execution_count": 26,
     "metadata": {},
     "output_type": "execute_result"
    }
   ],
   "source": [
    "# check percentage of missing values per feature in data\n",
    "na_data = (data.isnull().sum() / len(data)) * 100\n",
    "na_data = na_data.drop(na_data[na_data == 0].index).sort_values(ascending=False)\n",
    "\n",
    "# list of variables with a proportion of missing values > 0:\n",
    "missing_vars = na_data.index.values\n",
    "missing_types = [data[c].dtype for c in na_data.index]\n",
    "missing_data = pd.DataFrame({'Missing Ratio': na_data, 'Type': missing_types})\n",
    "missing_data"
   ]
  },
  {
   "cell_type": "markdown",
   "id": "b33f5d86",
   "metadata": {},
   "source": [
    "Our dataset does not have any missing values, which will definitely save us some work as we do not need to handle any missing data. \n",
    "Now, let's transform our area code into a categorical variable, and do the encoding of the rest of categorical variables.\n",
    "\n",
    "ENCODING"
   ]
  },
  {
   "cell_type": "code",
   "execution_count": 27,
   "id": "50b86e99",
   "metadata": {},
   "outputs": [],
   "source": [
    "# Transformation of a numerical variable into a categorical variable\n",
    "data['Area code'] = data['Area code'].astype(str)"
   ]
  },
  {
   "cell_type": "code",
   "execution_count": 28,
   "id": "90afb697",
   "metadata": {},
   "outputs": [
    {
     "name": "stdout",
     "output_type": "stream",
     "text": [
      "State  :  object\n",
      "Area code  :  object\n",
      "International plan  :  object\n",
      "Voice mail plan  :  object\n"
     ]
    }
   ],
   "source": [
    "# Label encoding of ordinal variables\n",
    "\n",
    "# let's get our categorical variables once again\n",
    "for c in data.columns:\n",
    "    if data[c].dtype == 'object':\n",
    "        print(c, ' : ', data[c].dtype)"
   ]
  },
  {
   "cell_type": "markdown",
   "id": "d655a18b",
   "metadata": {},
   "source": [
    "- State:\n",
    "    This variable has too many categories to encode, so for simplicity during our analysis it is better to drop this variable    \n",
    "- Area Code:\n",
    "    408\n",
    "    415\n",
    "    510\n",
    "    This variable is already encoded\n",
    "    \n",
    "- International Plan:\n",
    "    No\n",
    "    Yes\n",
    "\n",
    "- Voice Mail Plan:\n",
    "    No\n",
    "    Yes"
   ]
  },
  {
   "cell_type": "code",
   "execution_count": 29,
   "id": "45c43876",
   "metadata": {},
   "outputs": [],
   "source": [
    "# we have to do a manual assignment of categories\n",
    "data = data.replace({'International plan' : {'No' : '0', 'Yes' : '1'}, 'Voice mail plan' : {'No' : '0', 'Yes' : '1'}\n",
    "                    })       "
   ]
  },
  {
   "cell_type": "code",
   "execution_count": 30,
   "id": "246547c9",
   "metadata": {},
   "outputs": [
    {
     "name": "stdout",
     "output_type": "stream",
     "text": [
      "State : ['CO' 'WA' 'OK' 'NV' 'PA' 'HI' 'NJ' 'WV' 'CT' 'KS' 'NY' 'GA' 'IL' 'DC'\n",
      " 'UT' 'MN' 'MT' 'VT' 'TX' 'OH' 'DE' 'MD' 'AK' 'NM' 'NE' 'TN' 'LA' 'IN'\n",
      " 'NC' 'IA' 'MS' 'RI' 'WY' 'ME' 'KY' 'MO' 'SD' 'SC' 'WI' 'AZ' 'MI' 'AR'\n",
      " 'ND' 'VA' 'AL' 'MA' 'OR' 'ID' 'NH' 'CA' 'FL']\n",
      "Area code : ['415' '510' '408']\n",
      "International plan : ['0' '1']\n",
      "Voice mail plan : ['0' '1']\n"
     ]
    }
   ],
   "source": [
    "categorical_vars = []\n",
    "for c in data.columns:\n",
    "    if data[c].dtype == 'object':\n",
    "        categorical_vars.append(c)\n",
    "        print(c, ':', data[c].unique())"
   ]
  },
  {
   "cell_type": "code",
   "execution_count": 31,
   "id": "4ab296b2",
   "metadata": {},
   "outputs": [],
   "source": [
    "data['International plan'] = data['International plan'].astype(int)\n",
    "data['Voice mail plan'] = data['Voice mail plan'].astype(int)\n",
    "data['Area code'] = data['Area code'].astype(int)"
   ]
  },
  {
   "cell_type": "markdown",
   "id": "82a29bd2",
   "metadata": {},
   "source": [
    "To end our EDA, we can build some new features through the combination of existing features (interactions), in order to simplify further analysis\n",
    "\n",
    "INTERACTIONS"
   ]
  },
  {
   "cell_type": "code",
   "execution_count": 32,
   "id": "d82c62d3",
   "metadata": {},
   "outputs": [],
   "source": [
    "# Total number of national minutes\n",
    "data['Total Minutes'] = data['Total day minutes'] + data['Total eve minutes'] + data['Total night minutes']\n",
    "# Total number of national calls\n",
    "data['Total Calls'] = data['Total day calls'] + data['Total eve calls'] + data['Total night calls']\n",
    "# Total number of charges\n",
    "data['Total Charges'] = data['Total day charge'] + data['Total eve charge'] + data['Total night charge']"
   ]
  },
  {
   "cell_type": "code",
   "execution_count": 33,
   "id": "3a6c5d34",
   "metadata": {},
   "outputs": [
    {
     "data": {
      "text/html": [
       "<div>\n",
       "<style scoped>\n",
       "    .dataframe tbody tr th:only-of-type {\n",
       "        vertical-align: middle;\n",
       "    }\n",
       "\n",
       "    .dataframe tbody tr th {\n",
       "        vertical-align: top;\n",
       "    }\n",
       "\n",
       "    .dataframe thead th {\n",
       "        text-align: right;\n",
       "    }\n",
       "</style>\n",
       "<table border=\"1\" class=\"dataframe\">\n",
       "  <thead>\n",
       "    <tr style=\"text-align: right;\">\n",
       "      <th></th>\n",
       "      <th>Account length</th>\n",
       "      <th>Area code</th>\n",
       "      <th>International plan</th>\n",
       "      <th>Voice mail plan</th>\n",
       "      <th>Number vmail messages</th>\n",
       "      <th>Total intl minutes</th>\n",
       "      <th>Total intl calls</th>\n",
       "      <th>Total intl charge</th>\n",
       "      <th>Customer service calls</th>\n",
       "      <th>Churn</th>\n",
       "      <th>Total Minutes</th>\n",
       "      <th>Total Calls</th>\n",
       "      <th>Total Charges</th>\n",
       "    </tr>\n",
       "  </thead>\n",
       "  <tbody>\n",
       "    <tr>\n",
       "      <th>0</th>\n",
       "      <td>140</td>\n",
       "      <td>415</td>\n",
       "      <td>0</td>\n",
       "      <td>0</td>\n",
       "      <td>0</td>\n",
       "      <td>12.600</td>\n",
       "      <td>4</td>\n",
       "      <td>3.400</td>\n",
       "      <td>3</td>\n",
       "      <td>False</td>\n",
       "      <td>608.100</td>\n",
       "      <td>235</td>\n",
       "      <td>54.580</td>\n",
       "    </tr>\n",
       "    <tr>\n",
       "      <th>1</th>\n",
       "      <td>107</td>\n",
       "      <td>415</td>\n",
       "      <td>0</td>\n",
       "      <td>0</td>\n",
       "      <td>0</td>\n",
       "      <td>8.500</td>\n",
       "      <td>3</td>\n",
       "      <td>2.300</td>\n",
       "      <td>1</td>\n",
       "      <td>False</td>\n",
       "      <td>595.100</td>\n",
       "      <td>233</td>\n",
       "      <td>65.880</td>\n",
       "    </tr>\n",
       "    <tr>\n",
       "      <th>2</th>\n",
       "      <td>74</td>\n",
       "      <td>415</td>\n",
       "      <td>0</td>\n",
       "      <td>0</td>\n",
       "      <td>0</td>\n",
       "      <td>10.000</td>\n",
       "      <td>2</td>\n",
       "      <td>2.700</td>\n",
       "      <td>1</td>\n",
       "      <td>False</td>\n",
       "      <td>661.700</td>\n",
       "      <td>310</td>\n",
       "      <td>67.190</td>\n",
       "    </tr>\n",
       "    <tr>\n",
       "      <th>3</th>\n",
       "      <td>3</td>\n",
       "      <td>510</td>\n",
       "      <td>0</td>\n",
       "      <td>1</td>\n",
       "      <td>27</td>\n",
       "      <td>11.400</td>\n",
       "      <td>2</td>\n",
       "      <td>3.080</td>\n",
       "      <td>2</td>\n",
       "      <td>False</td>\n",
       "      <td>592.500</td>\n",
       "      <td>287</td>\n",
       "      <td>44.850</td>\n",
       "    </tr>\n",
       "    <tr>\n",
       "      <th>4</th>\n",
       "      <td>171</td>\n",
       "      <td>415</td>\n",
       "      <td>0</td>\n",
       "      <td>1</td>\n",
       "      <td>25</td>\n",
       "      <td>10.200</td>\n",
       "      <td>3</td>\n",
       "      <td>2.750</td>\n",
       "      <td>3</td>\n",
       "      <td>False</td>\n",
       "      <td>557.200</td>\n",
       "      <td>285</td>\n",
       "      <td>60.300</td>\n",
       "    </tr>\n",
       "    <tr>\n",
       "      <th>...</th>\n",
       "      <td>...</td>\n",
       "      <td>...</td>\n",
       "      <td>...</td>\n",
       "      <td>...</td>\n",
       "      <td>...</td>\n",
       "      <td>...</td>\n",
       "      <td>...</td>\n",
       "      <td>...</td>\n",
       "      <td>...</td>\n",
       "      <td>...</td>\n",
       "      <td>...</td>\n",
       "      <td>...</td>\n",
       "      <td>...</td>\n",
       "    </tr>\n",
       "    <tr>\n",
       "      <th>3161</th>\n",
       "      <td>112</td>\n",
       "      <td>510</td>\n",
       "      <td>0</td>\n",
       "      <td>0</td>\n",
       "      <td>0</td>\n",
       "      <td>11.300</td>\n",
       "      <td>7</td>\n",
       "      <td>3.050</td>\n",
       "      <td>1</td>\n",
       "      <td>False</td>\n",
       "      <td>604.300</td>\n",
       "      <td>318</td>\n",
       "      <td>59.380</td>\n",
       "    </tr>\n",
       "    <tr>\n",
       "      <th>3162</th>\n",
       "      <td>128</td>\n",
       "      <td>415</td>\n",
       "      <td>0</td>\n",
       "      <td>0</td>\n",
       "      <td>0</td>\n",
       "      <td>12.700</td>\n",
       "      <td>4</td>\n",
       "      <td>3.430</td>\n",
       "      <td>1</td>\n",
       "      <td>False</td>\n",
       "      <td>596.700</td>\n",
       "      <td>300</td>\n",
       "      <td>60.000</td>\n",
       "    </tr>\n",
       "    <tr>\n",
       "      <th>3163</th>\n",
       "      <td>118</td>\n",
       "      <td>408</td>\n",
       "      <td>1</td>\n",
       "      <td>1</td>\n",
       "      <td>21</td>\n",
       "      <td>11.100</td>\n",
       "      <td>3</td>\n",
       "      <td>3.000</td>\n",
       "      <td>4</td>\n",
       "      <td>True</td>\n",
       "      <td>524.400</td>\n",
       "      <td>328</td>\n",
       "      <td>51.530</td>\n",
       "    </tr>\n",
       "    <tr>\n",
       "      <th>3164</th>\n",
       "      <td>68</td>\n",
       "      <td>510</td>\n",
       "      <td>0</td>\n",
       "      <td>0</td>\n",
       "      <td>0</td>\n",
       "      <td>12.000</td>\n",
       "      <td>7</td>\n",
       "      <td>3.240</td>\n",
       "      <td>1</td>\n",
       "      <td>False</td>\n",
       "      <td>597.100</td>\n",
       "      <td>297</td>\n",
       "      <td>55.370</td>\n",
       "    </tr>\n",
       "    <tr>\n",
       "      <th>3165</th>\n",
       "      <td>73</td>\n",
       "      <td>415</td>\n",
       "      <td>0</td>\n",
       "      <td>0</td>\n",
       "      <td>0</td>\n",
       "      <td>8.500</td>\n",
       "      <td>6</td>\n",
       "      <td>2.300</td>\n",
       "      <td>0</td>\n",
       "      <td>False</td>\n",
       "      <td>545.900</td>\n",
       "      <td>203</td>\n",
       "      <td>55.650</td>\n",
       "    </tr>\n",
       "  </tbody>\n",
       "</table>\n",
       "<p>3123 rows × 13 columns</p>\n",
       "</div>"
      ],
      "text/plain": [
       "      Account length  Area code  International plan  Voice mail plan  \\\n",
       "0                140        415                   0                0   \n",
       "1                107        415                   0                0   \n",
       "2                 74        415                   0                0   \n",
       "3                  3        510                   0                1   \n",
       "4                171        415                   0                1   \n",
       "...              ...        ...                 ...              ...   \n",
       "3161             112        510                   0                0   \n",
       "3162             128        415                   0                0   \n",
       "3163             118        408                   1                1   \n",
       "3164              68        510                   0                0   \n",
       "3165              73        415                   0                0   \n",
       "\n",
       "      Number vmail messages  Total intl minutes  Total intl calls  \\\n",
       "0                         0              12.600                 4   \n",
       "1                         0               8.500                 3   \n",
       "2                         0              10.000                 2   \n",
       "3                        27              11.400                 2   \n",
       "4                        25              10.200                 3   \n",
       "...                     ...                 ...               ...   \n",
       "3161                      0              11.300                 7   \n",
       "3162                      0              12.700                 4   \n",
       "3163                     21              11.100                 3   \n",
       "3164                      0              12.000                 7   \n",
       "3165                      0               8.500                 6   \n",
       "\n",
       "      Total intl charge  Customer service calls  Churn  Total Minutes  \\\n",
       "0                 3.400                       3  False        608.100   \n",
       "1                 2.300                       1  False        595.100   \n",
       "2                 2.700                       1  False        661.700   \n",
       "3                 3.080                       2  False        592.500   \n",
       "4                 2.750                       3  False        557.200   \n",
       "...                 ...                     ...    ...            ...   \n",
       "3161              3.050                       1  False        604.300   \n",
       "3162              3.430                       1  False        596.700   \n",
       "3163              3.000                       4   True        524.400   \n",
       "3164              3.240                       1  False        597.100   \n",
       "3165              2.300                       0  False        545.900   \n",
       "\n",
       "      Total Calls  Total Charges  \n",
       "0             235         54.580  \n",
       "1             233         65.880  \n",
       "2             310         67.190  \n",
       "3             287         44.850  \n",
       "4             285         60.300  \n",
       "...           ...            ...  \n",
       "3161          318         59.380  \n",
       "3162          300         60.000  \n",
       "3163          328         51.530  \n",
       "3164          297         55.370  \n",
       "3165          203         55.650  \n",
       "\n",
       "[3123 rows x 13 columns]"
      ]
     },
     "execution_count": 33,
     "metadata": {},
     "output_type": "execute_result"
    }
   ],
   "source": [
    "features_to_remove = ['Total day minutes', 'Total eve minutes', 'Total night minutes', \n",
    "                      'Total day calls', 'Total eve calls','Total night calls',\n",
    "                      'Total day charge', 'Total eve charge', 'Total night charge', 'State']\n",
    "\n",
    "data.drop(features_to_remove, axis=1, inplace=True)\n",
    "data"
   ]
  },
  {
   "cell_type": "markdown",
   "id": "6fca667c",
   "metadata": {},
   "source": [
    "# Perform feature transformation if needed.\n",
    "Here we check the skewness of numerical features excluding cardinal variables (with just information about number of items). We then deal with extreme values before applying Box-Cox transformation later."
   ]
  },
  {
   "cell_type": "code",
   "execution_count": 34,
   "id": "5387adb5",
   "metadata": {},
   "outputs": [
    {
     "name": "stdout",
     "output_type": "stream",
     "text": [
      "Account length\n",
      "Area code\n",
      "International plan\n",
      "Voice mail plan\n",
      "Number vmail messages\n",
      "Total intl minutes\n",
      "Total intl calls\n",
      "Total intl charge\n",
      "Customer service calls\n",
      "Churn\n",
      "Total Minutes\n",
      "Total Calls\n",
      "Total Charges\n"
     ]
    }
   ],
   "source": [
    "for c in data.columns:\n",
    "    print(c)"
   ]
  },
  {
   "cell_type": "code",
   "execution_count": 35,
   "id": "b49e6b72",
   "metadata": {},
   "outputs": [
    {
     "name": "stdout",
     "output_type": "stream",
     "text": [
      "\n",
      "Skew in numerical features: \n",
      "\n"
     ]
    },
    {
     "data": {
      "text/html": [
       "<div>\n",
       "<style scoped>\n",
       "    .dataframe tbody tr th:only-of-type {\n",
       "        vertical-align: middle;\n",
       "    }\n",
       "\n",
       "    .dataframe tbody tr th {\n",
       "        vertical-align: top;\n",
       "    }\n",
       "\n",
       "    .dataframe thead th {\n",
       "        text-align: right;\n",
       "    }\n",
       "</style>\n",
       "<table border=\"1\" class=\"dataframe\">\n",
       "  <thead>\n",
       "    <tr style=\"text-align: right;\">\n",
       "      <th></th>\n",
       "      <th>Skew</th>\n",
       "    </tr>\n",
       "  </thead>\n",
       "  <tbody>\n",
       "    <tr>\n",
       "      <th>Account length</th>\n",
       "      <td>0.088</td>\n",
       "    </tr>\n",
       "  </tbody>\n",
       "</table>\n",
       "</div>"
      ],
      "text/plain": [
       "                Skew\n",
       "Account length 0.088"
      ]
     },
     "execution_count": 35,
     "metadata": {},
     "output_type": "execute_result"
    }
   ],
   "source": [
    "# We can observe only one of our variables does not give information about number of items: \n",
    "\n",
    "var = ['Account length']\n",
    "\n",
    "# Check the skew of numerical features\n",
    "feat_skew = data[var].apply(lambda x: skew(x.dropna())).sort_values(ascending=False)\n",
    "print(\"\\nSkew in numerical features: \\n\")\n",
    "skewness = pd.DataFrame({'Skew' : feat_skew})\n",
    "skewness#.head(10)"
   ]
  },
  {
   "cell_type": "code",
   "execution_count": 36,
   "id": "0e211aa3",
   "metadata": {},
   "outputs": [
    {
     "name": "stdout",
     "output_type": "stream",
     "text": [
      "['Account length']\n",
      "\n",
      "Account length\n",
      "105   1.313\n",
      "87    1.281\n",
      "101   1.217\n",
      "90    1.217\n",
      "86    1.153\n",
      "127   1.121\n",
      "112   1.089\n",
      "93    1.089\n",
      "123   1.089\n",
      "107   1.089\n",
      "Name: Account length, dtype: float64\n",
      "\n",
      " mu = 100.92 and sigma = 39.82\n",
      "\n"
     ]
    },
    {
     "data": {
      "image/png": "[encoded data removed]",
      "text/plain": [
       "<Figure size 432x288 with 1 Axes>"
      ]
     },
     "metadata": {},
     "output_type": "display_data"
    },
    {
     "data": {
      "image/png": "[encoded data removed]",
      "text/plain": [
       "<Figure size 864x288 with 2 Axes>"
      ]
     },
     "metadata": {},
     "output_type": "display_data"
    }
   ],
   "source": [
    "skewed_features = skewness[abs(skewness > 0.75)].index\n",
    "print(skewed_features.values)\n",
    "print()\n",
    "\n",
    "for feat in skewed_features:\n",
    "\n",
    "    print(feat)\n",
    "    pp = data[feat].value_counts()/data.shape[0]*100.\n",
    "    print(pp[:10, ])\n",
    "    \n",
    "    sns.distplot(data[feat], fit=norm);\n",
    "    (mu, sigma) = norm.fit(data[feat])\n",
    "    print( '\\n mu = {:.2f} and sigma = {:.2f}\\n'.format(mu, sigma))\n",
    "    \n",
    "    plt.legend(['Normal dist. ($\\mu=$ {:.2f} and $\\sigma=$ {:.2f} )'.format(mu, sigma)], loc='best')\n",
    "    plt.ylabel('Frequency')\n",
    "    plt.title('Distribution')\n",
    "\n",
    "    fig, axs = plt.subplots(nrows=1, ncols=2, figsize=(12,4))\n",
    "    res = stats.probplot(data[feat], plot=axs[0])\n",
    "    axs[1] = plt.boxplot(data[feat])\n",
    "    plt.show()"
   ]
  },
  {
   "cell_type": "markdown",
   "id": "9c8a9d00",
   "metadata": {},
   "source": [
    "We can observe that this variable is very close to a normal distribution, so no transformations are needed."
   ]
  },
  {
   "cell_type": "markdown",
   "id": "aaa4f28a",
   "metadata": {},
   "source": [
    "# Create a set of models including: LogisticRegression, SVC, DecisionTree, RandomForest and Boosted trees (AdaBoost, GB or XGBoost) and whatever combination of them you consider.\n",
    "\n",
    "Now that our dataset is clean, we can start making some predictions. Once we have these models made we can check what are the variables that affect our predictions the most"
   ]
  },
  {
   "cell_type": "code",
   "execution_count": 37,
   "id": "d89e0118",
   "metadata": {},
   "outputs": [
    {
     "name": "stdout",
     "output_type": "stream",
     "text": [
      "\n",
      "Numerical variables:\n",
      "\n",
      "Account length  :  int64\n",
      "Area code  :  int32\n",
      "International plan  :  int32\n",
      "Voice mail plan  :  int32\n",
      "Number vmail messages  :  int64\n",
      "Total intl minutes  :  float64\n",
      "Total intl calls  :  int64\n",
      "Total intl charge  :  float64\n",
      "Customer service calls  :  int64\n",
      "Churn  :  bool\n",
      "Total Minutes  :  float64\n",
      "Total Calls  :  int64\n",
      "Total Charges  :  float64\n",
      "\n",
      "Categorical variables:\n",
      "\n"
     ]
    }
   ],
   "source": [
    "# Let's do a recap\n",
    "numerical_vars = []\n",
    "print('\\nNumerical variables:\\n')\n",
    "for c in data.columns:\n",
    "    if data[c].dtype != 'object':\n",
    "        print(c, ' : ', data[c].dtype)\n",
    "        numerical_vars.append(c)\n",
    "\n",
    "categorical_vars = []\n",
    "print('\\nCategorical variables:\\n')\n",
    "for c in data.columns:\n",
    "    if data[c].dtype == 'object':\n",
    "        print(c, ' : ', data[c].dtype)\n",
    "        categorical_vars.append(c)"
   ]
  },
  {
   "cell_type": "code",
   "execution_count": 38,
   "id": "1019decd",
   "metadata": {},
   "outputs": [
    {
     "data": {
      "text/plain": [
       "(3123, 12)"
      ]
     },
     "execution_count": 38,
     "metadata": {},
     "output_type": "execute_result"
    }
   ],
   "source": [
    "X = data.drop(labels ='Churn', axis = 1).values\n",
    "y = data.Churn.values\n",
    "X.shape"
   ]
  },
  {
   "cell_type": "code",
   "execution_count": 39,
   "id": "f6935ced",
   "metadata": {},
   "outputs": [
    {
     "data": {
      "text/plain": [
       "(2498, 12)"
      ]
     },
     "execution_count": 39,
     "metadata": {},
     "output_type": "execute_result"
    }
   ],
   "source": [
    "from sklearn.model_selection import train_test_split\n",
    "\n",
    "X_train, X_test, y_train, y_test = train_test_split(X, y, random_state=17, test_size=0.20)\n",
    "X_train.shape"
   ]
  },
  {
   "cell_type": "code",
   "execution_count": 40,
   "id": "e775cf38",
   "metadata": {},
   "outputs": [
    {
     "data": {
      "text/plain": [
       "['Account length',\n",
       " 'Area code',\n",
       " 'International plan',\n",
       " 'Voice mail plan',\n",
       " 'Number vmail messages',\n",
       " 'Total intl minutes',\n",
       " 'Total intl calls',\n",
       " 'Total intl charge',\n",
       " 'Customer service calls',\n",
       " 'Total Minutes',\n",
       " 'Total Calls',\n",
       " 'Total Charges']"
      ]
     },
     "execution_count": 40,
     "metadata": {},
     "output_type": "execute_result"
    }
   ],
   "source": [
    "# we separate the input variable names by excluding the target\n",
    "features = [x for x in data if x != 'Churn']\n",
    "features"
   ]
  },
  {
   "cell_type": "markdown",
   "id": "18b8f98a",
   "metadata": {},
   "source": [
    "We can now create our first model: \n",
    "1. Logistic regression"
   ]
  },
  {
   "cell_type": "code",
   "execution_count": 41,
   "id": "51b89e4f",
   "metadata": {},
   "outputs": [],
   "source": [
    "from sklearn.linear_model import LogisticRegression\n",
    "from sklearn.model_selection import GridSearchCV, StratifiedKFold\n",
    "\n",
    "lr = LogisticRegression()\n",
    "lr = lr.fit(X_train, y_train)"
   ]
  },
  {
   "cell_type": "markdown",
   "id": "3a4bc930",
   "metadata": {},
   "source": [
    "Let's try to find the best regularization coefficient, which is the coefficient C for logistic regression. Then, we will have an optimal model that is not overfit and is a good predictor of the target variable."
   ]
  },
  {
   "cell_type": "code",
   "execution_count": 42,
   "id": "4ef85616",
   "metadata": {},
   "outputs": [
    {
     "data": {
      "text/plain": [
       "LogisticRegression(C=1)"
      ]
     },
     "execution_count": 42,
     "metadata": {},
     "output_type": "execute_result"
    }
   ],
   "source": [
    "parameters = {\"C\": (0.0001, 0.001, 0.01, 0.1, 1, 10)}\n",
    "skf = StratifiedKFold(n_splits=5, shuffle=True, random_state=5)\n",
    "gridsearch = GridSearchCV(lr, parameters, scoring = 'roc_auc', cv = skf)\n",
    "gridsearch = gridsearch.fit(X_train, y_train)\n",
    "gridsearch.best_estimator_"
   ]
  },
  {
   "cell_type": "markdown",
   "id": "e39acff3",
   "metadata": {},
   "source": [
    "Let's use this coefficient for our regression "
   ]
  },
  {
   "cell_type": "code",
   "execution_count": 43,
   "id": "f0aabd17",
   "metadata": {},
   "outputs": [
    {
     "data": {
      "text/plain": [
       "0.8592"
      ]
     },
     "execution_count": 43,
     "metadata": {},
     "output_type": "execute_result"
    }
   ],
   "source": [
    "from sklearn.metrics import accuracy_score\n",
    "\n",
    "lr = LogisticRegression(C=1)\n",
    "lr = lr.fit(X_train, y_train)\n",
    "\n",
    "y_pred = lr.predict(X_test)\n",
    "lr_score = accuracy_score(y_test, y_pred)\n",
    "lr_score"
   ]
  },
  {
   "cell_type": "code",
   "execution_count": 44,
   "id": "c9881750",
   "metadata": {},
   "outputs": [
    {
     "data": {
      "text/plain": [
       "array([[530,   4],\n",
       "       [ 84,   7]], dtype=int64)"
      ]
     },
     "execution_count": 44,
     "metadata": {},
     "output_type": "execute_result"
    }
   ],
   "source": [
    "from sklearn.metrics import confusion_matrix\n",
    "cm = confusion_matrix(y_test, y_pred)\n",
    "cm"
   ]
  },
  {
   "cell_type": "markdown",
   "id": "9c10d1b2",
   "metadata": {},
   "source": [
    "Our logistic model looks quite accurate. Let's see what the most predictive variables are"
   ]
  },
  {
   "cell_type": "code",
   "execution_count": 45,
   "id": "4f854b1f",
   "metadata": {},
   "outputs": [
    {
     "data": {
      "text/html": [
       "<div>\n",
       "<style scoped>\n",
       "    .dataframe tbody tr th:only-of-type {\n",
       "        vertical-align: middle;\n",
       "    }\n",
       "\n",
       "    .dataframe tbody tr th {\n",
       "        vertical-align: top;\n",
       "    }\n",
       "\n",
       "    .dataframe thead th {\n",
       "        text-align: right;\n",
       "    }\n",
       "</style>\n",
       "<table border=\"1\" class=\"dataframe\">\n",
       "  <thead>\n",
       "    <tr style=\"text-align: right;\">\n",
       "      <th></th>\n",
       "      <th>feat</th>\n",
       "      <th>coef</th>\n",
       "    </tr>\n",
       "  </thead>\n",
       "  <tbody>\n",
       "    <tr>\n",
       "      <th>8</th>\n",
       "      <td>Customer service calls</td>\n",
       "      <td>0.467</td>\n",
       "    </tr>\n",
       "    <tr>\n",
       "      <th>2</th>\n",
       "      <td>International plan</td>\n",
       "      <td>0.235</td>\n",
       "    </tr>\n",
       "    <tr>\n",
       "      <th>11</th>\n",
       "      <td>Total Charges</td>\n",
       "      <td>0.074</td>\n",
       "    </tr>\n",
       "    <tr>\n",
       "      <th>0</th>\n",
       "      <td>Account length</td>\n",
       "      <td>-0.000</td>\n",
       "    </tr>\n",
       "    <tr>\n",
       "      <th>9</th>\n",
       "      <td>Total Minutes</td>\n",
       "      <td>-0.002</td>\n",
       "    </tr>\n",
       "    <tr>\n",
       "      <th>7</th>\n",
       "      <td>Total intl charge</td>\n",
       "      <td>-0.003</td>\n",
       "    </tr>\n",
       "    <tr>\n",
       "      <th>10</th>\n",
       "      <td>Total Calls</td>\n",
       "      <td>-0.005</td>\n",
       "    </tr>\n",
       "    <tr>\n",
       "      <th>1</th>\n",
       "      <td>Area code</td>\n",
       "      <td>-0.008</td>\n",
       "    </tr>\n",
       "    <tr>\n",
       "      <th>5</th>\n",
       "      <td>Total intl minutes</td>\n",
       "      <td>-0.010</td>\n",
       "    </tr>\n",
       "    <tr>\n",
       "      <th>3</th>\n",
       "      <td>Voice mail plan</td>\n",
       "      <td>-0.023</td>\n",
       "    </tr>\n",
       "    <tr>\n",
       "      <th>4</th>\n",
       "      <td>Number vmail messages</td>\n",
       "      <td>-0.027</td>\n",
       "    </tr>\n",
       "    <tr>\n",
       "      <th>6</th>\n",
       "      <td>Total intl calls</td>\n",
       "      <td>-0.115</td>\n",
       "    </tr>\n",
       "  </tbody>\n",
       "</table>\n",
       "</div>"
      ],
      "text/plain": [
       "                      feat   coef\n",
       "8   Customer service calls  0.467\n",
       "2       International plan  0.235\n",
       "11           Total Charges  0.074\n",
       "0           Account length -0.000\n",
       "9            Total Minutes -0.002\n",
       "7        Total intl charge -0.003\n",
       "10             Total Calls -0.005\n",
       "1                Area code -0.008\n",
       "5       Total intl minutes -0.010\n",
       "3          Voice mail plan -0.023\n",
       "4    Number vmail messages -0.027\n",
       "6         Total intl calls -0.115"
      ]
     },
     "execution_count": 45,
     "metadata": {},
     "output_type": "execute_result"
    }
   ],
   "source": [
    "pd.DataFrame({'feat': features,\n",
    "              'coef': lr.coef_.flatten().tolist()}).sort_values(by = 'coef', ascending = False)"
   ]
  },
  {
   "cell_type": "markdown",
   "id": "1dd92cf8",
   "metadata": {},
   "source": [
    "MOST PREDICTIVE FEATURES OF OUR MODEL:\n",
    "The list indicates that the customer service callas, and whether the customer has or not an international plan, are the two most predictive features for the dataset. Let's keep doing some more models."
   ]
  },
  {
   "cell_type": "markdown",
   "id": "57483258",
   "metadata": {},
   "source": [
    "2. SVC\n",
    "Support Vector Classifications"
   ]
  },
  {
   "cell_type": "code",
   "execution_count": 46,
   "id": "492af49e",
   "metadata": {},
   "outputs": [
    {
     "name": "stdout",
     "output_type": "stream",
     "text": [
      "0.8544\n"
     ]
    }
   ],
   "source": [
    "from sklearn.svm import SVC\n",
    "\n",
    "svc = SVC(kernel='rbf')\n",
    "svc = svc.fit(X_train, y_train)\n",
    "y_pred = svc.predict(X_test)\n",
    "svc_score = accuracy_score(y_test, y_pred)\n",
    "print(svc_score)"
   ]
  },
  {
   "cell_type": "markdown",
   "id": "d904a2df",
   "metadata": {},
   "source": [
    "Our accuracy score is not bad, but let's see if we can improve it with a standard scaler"
   ]
  },
  {
   "cell_type": "code",
   "execution_count": 48,
   "id": "55992f47",
   "metadata": {},
   "outputs": [],
   "source": [
    "from sklearn.pipeline import make_pipeline\n",
    "from sklearn.preprocessing import StandardScaler\n",
    "\n",
    "svc = make_pipeline(StandardScaler(), SVC(gamma='auto'))\n",
    "svc = svc.fit(X_train, y_train)"
   ]
  },
  {
   "cell_type": "code",
   "execution_count": 49,
   "id": "18c0e34f",
   "metadata": {},
   "outputs": [
    {
     "name": "stdout",
     "output_type": "stream",
     "text": [
      "0.9088\n"
     ]
    }
   ],
   "source": [
    "y_pred = svc.predict(X_test)\n",
    "svc_score = accuracy_score(y_test, y_pred)\n",
    "print(svc_score)"
   ]
  },
  {
   "cell_type": "code",
   "execution_count": 50,
   "id": "21d9b0c5",
   "metadata": {},
   "outputs": [
    {
     "data": {
      "text/plain": [
       "array([[522,  12],\n",
       "       [ 45,  46]], dtype=int64)"
      ]
     },
     "execution_count": 50,
     "metadata": {},
     "output_type": "execute_result"
    }
   ],
   "source": [
    "from sklearn.metrics import confusion_matrix\n",
    "cm = confusion_matrix(y_test, y_pred)\n",
    "cm"
   ]
  },
  {
   "cell_type": "markdown",
   "id": "340d1dc1",
   "metadata": {},
   "source": [
    "3. Decision Tree\n",
    "\n",
    "There are two types of decision trees: Classifiers and Regressors\n",
    "\n",
    "Decision Tree Classifiers are used to solve classification problems. For example, they are predicting if a person will have their loan approved.\n",
    "Decision Tree Regressor are used to solve regression problems. For example, prediction of how many people will die because of an overdose.\n",
    "\n",
    "Since we are predicting if a customer will stay or not, we will be using a classifier."
   ]
  },
  {
   "cell_type": "code",
   "execution_count": 51,
   "id": "fc6bf376",
   "metadata": {},
   "outputs": [
    {
     "name": "stdout",
     "output_type": "stream",
     "text": [
      "0.9296\n"
     ]
    }
   ],
   "source": [
    "from sklearn.tree import DecisionTreeClassifier\n",
    "\n",
    "dt = DecisionTreeClassifier(random_state=42)\n",
    "dt = dt.fit(X_train, y_train)\n",
    "\n",
    "y_pred = dt.predict(X_test)\n",
    "dt_score = accuracy_score(y_test, y_pred)\n",
    "print(dt_score)"
   ]
  },
  {
   "cell_type": "code",
   "execution_count": 52,
   "id": "2fc45f3f",
   "metadata": {},
   "outputs": [
    {
     "data": {
      "text/plain": [
       "array([[510,  24],\n",
       "       [ 20,  71]], dtype=int64)"
      ]
     },
     "execution_count": 52,
     "metadata": {},
     "output_type": "execute_result"
    }
   ],
   "source": [
    "cm = confusion_matrix(y_test, y_pred)\n",
    "cm"
   ]
  },
  {
   "cell_type": "markdown",
   "id": "e8696800",
   "metadata": {},
   "source": [
    "4. Random Forest"
   ]
  },
  {
   "cell_type": "code",
   "execution_count": 53,
   "id": "4b5f41eb",
   "metadata": {},
   "outputs": [
    {
     "data": {
      "text/plain": [
       "0.9632"
      ]
     },
     "execution_count": 53,
     "metadata": {},
     "output_type": "execute_result"
    }
   ],
   "source": [
    "from sklearn.ensemble import RandomForestClassifier\n",
    "\n",
    "rf = RandomForestClassifier(\n",
    "    n_estimators=500, \n",
    "    max_leaf_nodes=16, \n",
    "    random_state=42)\n",
    "\n",
    "rf = rf.fit(X_train, y_train)\n",
    "\n",
    "y_pred = rf.predict(X_test)\n",
    "rf_score = accuracy_score(y_test, y_pred)\n",
    "rf_score"
   ]
  },
  {
   "cell_type": "code",
   "execution_count": 54,
   "id": "cd1e6f14",
   "metadata": {},
   "outputs": [
    {
     "data": {
      "text/plain": [
       "array([[533,   1],\n",
       "       [ 22,  69]], dtype=int64)"
      ]
     },
     "execution_count": 54,
     "metadata": {},
     "output_type": "execute_result"
    }
   ],
   "source": [
    "cm = confusion_matrix(y_test, y_pred)\n",
    "cm"
   ]
  },
  {
   "cell_type": "markdown",
   "id": "8b7e2b75",
   "metadata": {},
   "source": [
    "5. Boosted trees (AdaBoost, GB or XGBoost) \n",
    "and whatever combination of them you consider\n",
    "\n",
    "5.1 Adaptive Boost"
   ]
  },
  {
   "cell_type": "code",
   "execution_count": 55,
   "id": "9b299c09",
   "metadata": {},
   "outputs": [
    {
     "data": {
      "text/plain": [
       "AdaBoostClassifier(base_estimator=DecisionTreeClassifier(max_depth=1),\n",
       "                   learning_rate=0.5, n_estimators=200, random_state=42)"
      ]
     },
     "execution_count": 55,
     "metadata": {},
     "output_type": "execute_result"
    }
   ],
   "source": [
    "from sklearn.ensemble import AdaBoostClassifier\n",
    "\n",
    "ada = AdaBoostClassifier(\n",
    "    DecisionTreeClassifier(max_depth=1), n_estimators=200,\n",
    "    learning_rate=0.5, random_state=42)\n",
    "\n",
    "ada.fit(X_train, y_train)"
   ]
  },
  {
   "cell_type": "code",
   "execution_count": 56,
   "id": "2551401d",
   "metadata": {},
   "outputs": [
    {
     "data": {
      "text/plain": [
       "0.8976"
      ]
     },
     "execution_count": 56,
     "metadata": {},
     "output_type": "execute_result"
    }
   ],
   "source": [
    "y_pred = ada.predict(X_test)\n",
    "ada_score = accuracy_score(y_test, y_pred)\n",
    "ada_score"
   ]
  },
  {
   "cell_type": "code",
   "execution_count": 57,
   "id": "c361e188",
   "metadata": {},
   "outputs": [
    {
     "data": {
      "text/plain": [
       "array([[520,  14],\n",
       "       [ 50,  41]], dtype=int64)"
      ]
     },
     "execution_count": 57,
     "metadata": {},
     "output_type": "execute_result"
    }
   ],
   "source": [
    "cm = confusion_matrix(y_test, y_pred)\n",
    "cm"
   ]
  },
  {
   "cell_type": "markdown",
   "id": "f4dc10f8",
   "metadata": {},
   "source": [
    "5.2 Gradient Boosting Machine"
   ]
  },
  {
   "cell_type": "code",
   "execution_count": 58,
   "id": "8799aec7",
   "metadata": {},
   "outputs": [
    {
     "data": {
      "text/plain": [
       "GradientBoostingClassifier(learning_rate=0.5, max_depth=1, n_estimators=200,\n",
       "                           random_state=42)"
      ]
     },
     "execution_count": 58,
     "metadata": {},
     "output_type": "execute_result"
    }
   ],
   "source": [
    "from sklearn.ensemble import GradientBoostingClassifier\n",
    "gb = GradientBoostingClassifier(max_depth=1, n_estimators=200,\n",
    "    learning_rate=0.5, random_state=42)\n",
    "\n",
    "gb.fit(X_train, y_train)"
   ]
  },
  {
   "cell_type": "code",
   "execution_count": 59,
   "id": "b60174b8",
   "metadata": {},
   "outputs": [
    {
     "data": {
      "text/plain": [
       "0.9152"
      ]
     },
     "execution_count": 59,
     "metadata": {},
     "output_type": "execute_result"
    }
   ],
   "source": [
    "y_pred = gb.predict(X_test)\n",
    "gb_score = accuracy_score(y_test, y_pred)\n",
    "gb_score"
   ]
  },
  {
   "cell_type": "code",
   "execution_count": 60,
   "id": "643088cd",
   "metadata": {},
   "outputs": [
    {
     "data": {
      "text/plain": [
       "array([[520,  14],\n",
       "       [ 39,  52]], dtype=int64)"
      ]
     },
     "execution_count": 60,
     "metadata": {},
     "output_type": "execute_result"
    }
   ],
   "source": [
    "cm = confusion_matrix(y_test, y_pred)\n",
    "cm"
   ]
  },
  {
   "cell_type": "markdown",
   "id": "b08be97a",
   "metadata": {},
   "source": [
    "# Model Selection: Which model is best?\n",
    "To see which of our model is better, we can stack all of our classifiers and compare them."
   ]
  },
  {
   "cell_type": "code",
   "execution_count": 61,
   "id": "63076daa",
   "metadata": {},
   "outputs": [],
   "source": [
    "#!pip install mlxtend"
   ]
  },
  {
   "cell_type": "code",
   "execution_count": 62,
   "id": "af76abd6",
   "metadata": {},
   "outputs": [
    {
     "name": "stdout",
     "output_type": "stream",
     "text": [
      "5-fold cross validation:\n",
      "\n",
      "Accuracy: 0.86 (+/- 0.00) [lr]\n",
      "Accuracy: 0.93 (+/- 0.01) [svc]\n",
      "Accuracy: 0.95 (+/- 0.00) [dt]\n",
      "Accuracy: 0.96 (+/- 0.01) [rf]\n",
      "Accuracy: 0.91 (+/- 0.01) [ada]\n",
      "Accuracy: 0.92 (+/- 0.01) [gb]\n"
     ]
    }
   ],
   "source": [
    "from mlxtend.classifier import StackingCVClassifier\n",
    "from sklearn.model_selection import cross_val_score\n",
    "\n",
    "#base models\n",
    "estimators=[('lr', lr), ('svc', svc), ('dt', dt), ('rf', rf), ('ada', ada), ('gb', gb)]\n",
    "\n",
    "# meta learner\n",
    "lr = LogisticRegression(C=1)\n",
    "\n",
    "sclf = StackingCVClassifier(classifiers=[cls for _, cls in estimators], meta_classifier=lr)\n",
    "\n",
    "print('5-fold cross validation:\\n')\n",
    "\n",
    "for label, clf in estimators:\n",
    "\n",
    "    scores = cross_val_score(clf, X_train, y_train, cv=5, scoring='accuracy')\n",
    "    print(\"Accuracy: %0.2f (+/- %0.2f) [%s]\" \n",
    "          % (scores.mean(), scores.std(), label))"
   ]
  },
  {
   "cell_type": "markdown",
   "id": "5e5afd37",
   "metadata": {},
   "source": [
    "We can conclude that the random forest is the best model for our dataset."
   ]
  },
  {
   "cell_type": "markdown",
   "id": "9712f58e",
   "metadata": {},
   "source": [
    "# Best Variable Estimators in our best model"
   ]
  },
  {
   "cell_type": "code",
   "execution_count": 63,
   "id": "aa6a6fd7",
   "metadata": {},
   "outputs": [
    {
     "data": {
      "text/html": [
       "<div>\n",
       "<style scoped>\n",
       "    .dataframe tbody tr th:only-of-type {\n",
       "        vertical-align: middle;\n",
       "    }\n",
       "\n",
       "    .dataframe tbody tr th {\n",
       "        vertical-align: top;\n",
       "    }\n",
       "\n",
       "    .dataframe thead th {\n",
       "        text-align: right;\n",
       "    }\n",
       "</style>\n",
       "<table border=\"1\" class=\"dataframe\">\n",
       "  <thead>\n",
       "    <tr style=\"text-align: right;\">\n",
       "      <th></th>\n",
       "      <th>feat</th>\n",
       "      <th>coef</th>\n",
       "    </tr>\n",
       "  </thead>\n",
       "  <tbody>\n",
       "    <tr>\n",
       "      <th>11</th>\n",
       "      <td>Total Charges</td>\n",
       "      <td>0.361</td>\n",
       "    </tr>\n",
       "    <tr>\n",
       "      <th>9</th>\n",
       "      <td>Total Minutes</td>\n",
       "      <td>0.144</td>\n",
       "    </tr>\n",
       "    <tr>\n",
       "      <th>8</th>\n",
       "      <td>Customer service calls</td>\n",
       "      <td>0.129</td>\n",
       "    </tr>\n",
       "    <tr>\n",
       "      <th>2</th>\n",
       "      <td>International plan</td>\n",
       "      <td>0.111</td>\n",
       "    </tr>\n",
       "    <tr>\n",
       "      <th>6</th>\n",
       "      <td>Total intl calls</td>\n",
       "      <td>0.060</td>\n",
       "    </tr>\n",
       "    <tr>\n",
       "      <th>3</th>\n",
       "      <td>Voice mail plan</td>\n",
       "      <td>0.050</td>\n",
       "    </tr>\n",
       "    <tr>\n",
       "      <th>4</th>\n",
       "      <td>Number vmail messages</td>\n",
       "      <td>0.049</td>\n",
       "    </tr>\n",
       "    <tr>\n",
       "      <th>7</th>\n",
       "      <td>Total intl charge</td>\n",
       "      <td>0.036</td>\n",
       "    </tr>\n",
       "    <tr>\n",
       "      <th>5</th>\n",
       "      <td>Total intl minutes</td>\n",
       "      <td>0.035</td>\n",
       "    </tr>\n",
       "    <tr>\n",
       "      <th>0</th>\n",
       "      <td>Account length</td>\n",
       "      <td>0.013</td>\n",
       "    </tr>\n",
       "    <tr>\n",
       "      <th>10</th>\n",
       "      <td>Total Calls</td>\n",
       "      <td>0.011</td>\n",
       "    </tr>\n",
       "    <tr>\n",
       "      <th>1</th>\n",
       "      <td>Area code</td>\n",
       "      <td>0.003</td>\n",
       "    </tr>\n",
       "  </tbody>\n",
       "</table>\n",
       "</div>"
      ],
      "text/plain": [
       "                      feat  coef\n",
       "11           Total Charges 0.361\n",
       "9            Total Minutes 0.144\n",
       "8   Customer service calls 0.129\n",
       "2       International plan 0.111\n",
       "6         Total intl calls 0.060\n",
       "3          Voice mail plan 0.050\n",
       "4    Number vmail messages 0.049\n",
       "7        Total intl charge 0.036\n",
       "5       Total intl minutes 0.035\n",
       "0           Account length 0.013\n",
       "10             Total Calls 0.011\n",
       "1                Area code 0.003"
      ]
     },
     "execution_count": 63,
     "metadata": {},
     "output_type": "execute_result"
    }
   ],
   "source": [
    "pd.DataFrame({'feat': features,\n",
    "              'coef': rf.feature_importances_}).sort_values(by='coef', ascending = False)"
   ]
  },
  {
   "cell_type": "code",
   "execution_count": 64,
   "id": "76ba6d1e",
   "metadata": {},
   "outputs": [
    {
     "data": {
      "image/png": "[encoded data removed]",
      "text/plain": [
       "<Figure size 432x288 with 1 Axes>"
      ]
     },
     "metadata": {},
     "output_type": "display_data"
    }
   ],
   "source": [
    "importances = rf.feature_importances_\n",
    "std = np.std([tree.feature_importances_ for tree in rf.estimators_], axis=0)\n",
    "\n",
    "forest_importances = pd.Series(importances, index=features)\n",
    "\n",
    "fig, ax = plt.subplots()\n",
    "forest_importances.plot.bar(yerr=std, ax=ax)\n",
    "ax.set_title(\"Feature importances using MDI\")\n",
    "ax.set_ylabel(\"Mean decrease in impurity\")\n",
    "fig.tight_layout()"
   ]
  },
  {
   "cell_type": "markdown",
   "id": "d9c34aee",
   "metadata": {},
   "source": [
    "Here we can observe what are the most important variables inside our selected model. We can see that the coefficients are quite different than those from our initial logistic regression."
   ]
  },
  {
   "cell_type": "markdown",
   "id": "7b3cd5f2",
   "metadata": {},
   "source": [
    "# Save the model on disk.\n",
    "After training our scikit-learn model, we will save it on the disk by  "
   ]
  },
  {
   "cell_type": "code",
   "execution_count": 65,
   "id": "60bb70d3",
   "metadata": {},
   "outputs": [],
   "source": [
    "import pickle\n",
    "s = pickle.dumps(rf)"
   ]
  },
  {
   "cell_type": "code",
   "execution_count": 66,
   "id": "c1e38958",
   "metadata": {},
   "outputs": [
    {
     "data": {
      "text/plain": [
       "RandomForestClassifier(max_leaf_nodes=16, n_estimators=500, random_state=42)"
      ]
     },
     "execution_count": 66,
     "metadata": {},
     "output_type": "execute_result"
    }
   ],
   "source": [
    "Natalia_Caceres = pickle.loads(s)\n",
    "Natalia_Caceres"
   ]
  },
  {
   "cell_type": "code",
   "execution_count": 68,
   "id": "c9cac506",
   "metadata": {},
   "outputs": [],
   "source": [
    "import pickle\n",
    "\n",
    "data = rf\n",
    "file = open(\"Natalia_Caceres\",\"wb\")\n",
    "\n",
    "pickle.dump(data,file)\n",
    "file.close()"
   ]
  },
  {
   "cell_type": "code",
   "execution_count": 549,
   "id": "dcb9801d",
   "metadata": {},
   "outputs": [
    {
     "data": {
      "text/plain": [
       "0.9648"
      ]
     },
     "execution_count": 549,
     "metadata": {},
     "output_type": "execute_result"
    }
   ],
   "source": [
    "# We can try out our model with a random test set\n",
    "from sklearn.model_selection import train_test_split\n",
    "\n",
    "X_train, X_test, y_train, y_test = train_test_split(X, y, random_state=99, test_size=0.20) # by changing the random_state, we gest different test sets\n",
    "y_pred = Natalia_Caceres.predict(X_test)\n",
    "accuracy_score(y_test, y_pred)"
   ]
  }
 ],
 "metadata": {
  "kernelspec": {
   "display_name": "Python 3",
   "language": "python",
   "name": "python3"
  },
  "language_info": {
   "codemirror_mode": {
    "name": "ipython",
    "version": 3
   },
   "file_extension": ".py",
   "mimetype": "text/x-python",
   "name": "python",
   "nbconvert_exporter": "python",
   "pygments_lexer": "ipython3",
   "version": "3.8.8"
  }
 },
 "nbformat": 4,
 "nbformat_minor": 5
}
